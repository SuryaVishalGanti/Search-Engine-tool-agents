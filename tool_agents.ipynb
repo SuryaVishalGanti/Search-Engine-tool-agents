{
 "cells": [
  {
   "cell_type": "markdown",
   "metadata": {},
   "source": [
    "### Search Engine Tools and Agents"
   ]
  },
  {
   "cell_type": "markdown",
   "metadata": {},
   "source": [
    "%pip install arxiv\n",
    "\n",
    "\n",
    "%pip install wikipedia\n",
    "\n",
    "\n",
    "%pip install groq"
   ]
  },
  {
   "cell_type": "code",
   "execution_count": 23,
   "metadata": {},
   "outputs": [],
   "source": [
    "## Tools Creation\n",
    "## Arxiv -- Research\n",
    "from langchain_community.tools import ArxivQueryRun,WikipediaQueryRun\n",
    "from langchain_community.utilities import WikipediaAPIWrapper, ArxivAPIWrapper"
   ]
  },
  {
   "cell_type": "markdown",
   "metadata": {},
   "source": [
    "Wrapper around WikipediaAPI.\n",
    "\n",
    "To use, you should have the wikipedia python package installed. This wrapper will use the Wikipedia API to conduct searches and fetch page summaries. By default, it will return the page summaries of the top-k results. It limits the Document content by doc_content_chars_max."
   ]
  },
  {
   "cell_type": "code",
   "execution_count": 24,
   "metadata": {},
   "outputs": [
    {
     "data": {
      "text/plain": [
       "'wikipedia'"
      ]
     },
     "execution_count": 24,
     "metadata": {},
     "output_type": "execute_result"
    }
   ],
   "source": [
    "## Used the Inbuilt tools of the Wikipedia\n",
    "\n",
    "api_wrapper_wiki = WikipediaAPIWrapper(top_k_results=1, doc_content_chars_max=250)\n",
    "wiki = WikipediaQueryRun(api_wrapper=api_wrapper_wiki)\n",
    "wiki.name"
   ]
  },
  {
   "cell_type": "code",
   "execution_count": 25,
   "metadata": {},
   "outputs": [
    {
     "name": "stdout",
     "output_type": "stream",
     "text": [
      "arxiv\n"
     ]
    }
   ],
   "source": [
    "api_wrapper_arxiv = ArxivAPIWrapper(top_k_results=1,doc_content_chars_max=250)\n",
    "arxiv=ArxivQueryRun(api_wrapper=api_wrapper_arxiv)\n",
    "print(arxiv.name)"
   ]
  },
  {
   "cell_type": "code",
   "execution_count": 26,
   "metadata": {},
   "outputs": [],
   "source": [
    "tools=[wiki,arxiv]"
   ]
  },
  {
   "cell_type": "code",
   "execution_count": 27,
   "metadata": {},
   "outputs": [
    {
     "name": "stderr",
     "output_type": "stream",
     "text": [
      "USER_AGENT environment variable not set, consider setting it to identify your requests.\n"
     ]
    }
   ],
   "source": [
    "##Using Custom tools[RAG Tools]\n",
    "from langchain_community.document_loaders import WebBaseLoader\n",
    "from langchain_community.vectorstores import FAISS\n",
    "from langchain_huggingface import HuggingFaceEmbeddings\n",
    "from langchain_text_splitters import RecursiveCharacterTextSplitter"
   ]
  },
  {
   "cell_type": "code",
   "execution_count": 28,
   "metadata": {},
   "outputs": [
    {
     "data": {
      "text/plain": [
       "VectorStoreRetriever(tags=['FAISS', 'HuggingFaceEmbeddings'], vectorstore=<langchain_community.vectorstores.faiss.FAISS object at 0x329c01290>, search_kwargs={})"
      ]
     },
     "execution_count": 28,
     "metadata": {},
     "output_type": "execute_result"
    }
   ],
   "source": [
    "loader = WebBaseLoader(\"https://docs.smith.langchain.com/\")\n",
    "docs=loader.load()\n",
    "documents=RecursiveCharacterTextSplitter(chunk_size=1000, chunk_overlap=200).split_documents(docs)\n",
    "vectordb=FAISS.from_documents(documents,HuggingFaceEmbeddings())\n",
    "retriever=vectordb.as_retriever()\n",
    "retriever"
   ]
  },
  {
   "cell_type": "code",
   "execution_count": 29,
   "metadata": {},
   "outputs": [
    {
     "data": {
      "text/plain": [
       "'langsmith-search'"
      ]
     },
     "execution_count": 29,
     "metadata": {},
     "output_type": "execute_result"
    }
   ],
   "source": [
    "from langchain.tools.retriever import create_retriever_tool\n",
    "retriever_tool = create_retriever_tool(retriever,\"langsmith-search\",  \"Search any information about Langsmith\")\n",
    "\n",
    "retriever_tool.name"
   ]
  },
  {
   "cell_type": "code",
   "execution_count": 30,
   "metadata": {},
   "outputs": [],
   "source": [
    "tools = [wiki,arxiv,retriever_tool]"
   ]
  },
  {
   "cell_type": "code",
   "execution_count": 31,
   "metadata": {},
   "outputs": [
    {
     "data": {
      "text/plain": [
       "[WikipediaQueryRun(api_wrapper=WikipediaAPIWrapper(wiki_client=<module 'wikipedia' from '/Users/surya/.pyenv/versions/3.11.0/lib/python3.11/site-packages/wikipedia/__init__.py'>, top_k_results=1, lang='en', load_all_available_meta=False, doc_content_chars_max=250)),\n",
       " ArxivQueryRun(api_wrapper=ArxivAPIWrapper(arxiv_search=<class 'arxiv.Search'>, arxiv_exceptions=(<class 'arxiv.ArxivError'>, <class 'arxiv.UnexpectedEmptyPageError'>, <class 'arxiv.HTTPError'>), top_k_results=1, ARXIV_MAX_QUERY_LENGTH=300, continue_on_failure=False, load_max_docs=100, load_all_available_meta=False, doc_content_chars_max=250)),\n",
       " Tool(name='langsmith-search', description='Search any information about Langsmith', args_schema=<class 'langchain_core.tools.retriever.RetrieverInput'>, func=functools.partial(<function _get_relevant_documents at 0x10ba7cf40>, retriever=VectorStoreRetriever(tags=['FAISS', 'HuggingFaceEmbeddings'], vectorstore=<langchain_community.vectorstores.faiss.FAISS object at 0x329c01290>, search_kwargs={}), document_prompt=PromptTemplate(input_variables=['page_content'], input_types={}, partial_variables={}, template='{page_content}'), document_separator='\\n\\n', response_format='content'), coroutine=functools.partial(<function _aget_relevant_documents at 0x10bba1da0>, retriever=VectorStoreRetriever(tags=['FAISS', 'HuggingFaceEmbeddings'], vectorstore=<langchain_community.vectorstores.faiss.FAISS object at 0x329c01290>, search_kwargs={}), document_prompt=PromptTemplate(input_variables=['page_content'], input_types={}, partial_variables={}, template='{page_content}'), document_separator='\\n\\n', response_format='content'))]"
      ]
     },
     "execution_count": 31,
     "metadata": {},
     "output_type": "execute_result"
    }
   ],
   "source": [
    "tools"
   ]
  },
  {
   "cell_type": "markdown",
   "metadata": {},
   "source": [
    "## Video - 2\n",
    "### Executing Tools And LLM with Agent Executors"
   ]
  },
  {
   "cell_type": "markdown",
   "metadata": {},
   "source": [
    "## Prompt Template\n",
    "from langchain import hub\n",
    "prompt = hub.pull(\"hwchase17/openai-functions-agent\")\n",
    "prompt.messages"
   ]
  },
  {
   "cell_type": "code",
   "execution_count": null,
   "metadata": {},
   "outputs": [],
   "source": []
  },
  {
   "cell_type": "code",
   "execution_count": 47,
   "metadata": {},
   "outputs": [
    {
     "name": "stdout",
     "output_type": "stream",
     "text": [
      "\n",
      "\n",
      "\u001b[1m> Entering new AgentExecutor chain...\u001b[0m\n",
      "\u001b[32;1m\u001b[1;3m To answer this question, I need to calculate the loan amount, interest rate, monthly payment, and time period provided. I will use the ollama_textgen tool to structure the problem mathematically, then perform calculations using standard financial formulas. After that, I'll determine the monthly payment.\n",
      "\n",
      "Action: ollama_textgen\n",
      "Action Input: \"Let's calculate the SBI Loan Amount, Monthly Payment, and Time Period given the principal amount of 5000000/-, Interest Rate Range (11.60% - 14.10% per annum), and Time Limit is 10 years.\"\u001b[0m\n",
      "Observation: \u001b[36;1m\u001b[1;3m To calculate the SBI Loan details, we'll use the formula for a loan with constant monthly payments (amortizing loan). The formula is:\n",
      "\n",
      "Loan Payment (P) = [P[r(1+r)^n] / ((1+r)^n – 1)] * L\n",
      "\n",
      "Where:\n",
      "- P is the periodic payment.\n",
      "- r is the monthly interest rate (annual interest rate / 12).\n",
      "- n is the total number of periods.\n",
      "- L is the loan amount (principal).\n",
      "\n",
      "First, let's find the monthly interest rate for both minimum and maximum rates in the given range:\n",
      "- Minimum rate: 11.60% per annum = 0.116 / 12 ≈ 0.00967 or 0.967% per month.\n",
      "- Maximum rate: 14.10% per annum = 0.141 / 12 ≈ 0.01175 or 1.175% per month.\n",
      "\n",
      "Next, let's determine the total number of periods (n) for a 10-year loan:\n",
      "- Time limit is 10 years = 10 * 12 months/year = 120 months.\n",
      "\n",
      "Now we can calculate the monthly payment using the minimum and maximum interest rates:\n",
      "\n",
      "At Minimum Rate:\n",
      "Pmin = [P[r(1+r)^n] / ((1+r)^n – 1)] * L\n",
      "Pmin = [(0.00967 * (1 + 0.00967)^120) / ((1 + 0.00967)^120 - 1)] * 5000000\n",
      "Pmin ≈ 84,308.51 rupees/month\n",
      "\n",
      "At Maximum Rate:\n",
      "Pmax = [P[r(1+r)^n] / ((1+r)^n – 1)] * L\n",
      "Pmax = [(0.01175 * (1 + 0.01175)^120) / ((1 + 0.01175)^120 - 1)] * 5000000\n",
      "Pmax ≈ 94,812.35 rupees/month\n",
      "\n",
      "Finally, the loan amount, monthly payment, and time period are:\n",
      "- Loan Amount (L): 5000000 rupees\n",
      "- Minimum Monthly Payment (Pmin): 84,308.51 rupees\n",
      "- Maximum Monthly Payment (Pmax): 94,812.35 rupees\n",
      "- Time Period: 10 years or 120 months\u001b[0m\n",
      "Thought:\u001b[32;1m\u001b[1;3m I now know the final answer\n",
      "Final Answer: The SBI Loan Amount is 5000000/-. The minimum monthly payment with an interest rate of 11.60% per annum is approximately 84,308.51 rupees. The maximum monthly payment with an interest rate of 14.10% per annum is approximately 94,812.35 rupees. The loan has a time limit of 10 years or 120 months.\u001b[0m\n",
      "\n",
      "\u001b[1m> Finished chain.\u001b[0m\n",
      "\n",
      "AI Response:\n",
      " {'input': 'calculate SBI Loan Amount of 5000000/-, with 11.60% - 14.10% per annum intrest, and How much that I have to pay per month, and Time limit is 10 years', 'output': 'The SBI Loan Amount is 5000000/-. The minimum monthly payment with an interest rate of 11.60% per annum is approximately 84,308.51 rupees. The maximum monthly payment with an interest rate of 14.10% per annum is approximately 94,812.35 rupees. The loan has a time limit of 10 years or 120 months.'}\n"
     ]
    }
   ],
   "source": [
    "from dotenv import load_dotenv\n",
    "import os\n",
    "\n",
    "load_dotenv()\n",
    "\n",
    "from langchain_community.llms import Ollama\n",
    "from langchain.agents import initialize_agent, AgentType\n",
    "from langchain.tools import Tool\n",
    "from langchain_community.tools.tavily_search import TavilySearchResults\n",
    "\n",
    "# Load API Keys\n",
    "tavily_api_key = os.getenv(\"TAVILY_API_KEY\")\n",
    "\n",
    "if not tavily_api_key:\n",
    "    print(\"Error: TAVILY_API_KEY is missing. Check your .env file.\")\n",
    "    exit(1)\n",
    "\n",
    "# Initialize Ollama Model (No API Key Required)\n",
    "try:\n",
    "    llm = Ollama(model=\"mistral\")  # You can also use \"llama3\"\n",
    "except Exception as e:\n",
    "    print(f\"Error initializing Ollama LLM: {str(e)}\")\n",
    "    exit(1)\n",
    "\n",
    "# Function to Generate Text using Ollama\n",
    "def generate_text(prompt: str):\n",
    "    try:\n",
    "        response = llm.invoke(prompt)\n",
    "        return response\n",
    "    except Exception as e:\n",
    "        print(f\"Error generating text: {str(e)}\")\n",
    "        return \"Error generating text.\"\n",
    "\n",
    "# Define Ollama Tool\n",
    "text_gen_tool = Tool(\n",
    "    name=\"ollama_textgen\",\n",
    "    func=generate_text,\n",
    "    description=\"Generates text using Ollama (Mistral model)\"\n",
    ")\n",
    "\n",
    "# Load Tavily Search Tool\n",
    "try:\n",
    "    search_tool = TavilySearchResults(api_key=tavily_api_key)\n",
    "except Exception as e:\n",
    "    print(f\"Error loading Tavily Search Tool: {str(e)}\")\n",
    "    exit(1)\n",
    "\n",
    "# Combine Tools\n",
    "tools = [text_gen_tool, search_tool]\n",
    "\n",
    "# Create an Agent\n",
    "try:\n",
    "    agent = initialize_agent(\n",
    "        tools=tools,\n",
    "        llm=llm,\n",
    "        agent=AgentType.ZERO_SHOT_REACT_DESCRIPTION,\n",
    "        verbose=True\n",
    "    )\n",
    "except Exception as e:\n",
    "    print(f\"Error creating agent: {str(e)}\")\n",
    "    exit(1)\n",
    "\n",
    "# Run the Agent\n",
    "try:\n",
    "    response = agent.invoke({\"input\": \"calculate SBI Loan Amount of 5000000/-, with 11.60% to 14.10% per annum intrest, and How much that I have to pay per month, and Time limit is 10 years\"})\n",
    "    if response:\n",
    "        print(\"\\nAI Response:\\n\", response)\n",
    "    else:\n",
    "        print(\"No response received from the agent.\")\n",
    "except Exception as e:\n",
    "    print(f\"Error running agent: {str(e)}\")\n"
   ]
  },
  {
   "cell_type": "code",
   "execution_count": null,
   "metadata": {},
   "outputs": [],
   "source": []
  }
 ],
 "metadata": {
  "kernelspec": {
   "display_name": "3.11.0",
   "language": "python",
   "name": "python3"
  },
  "language_info": {
   "codemirror_mode": {
    "name": "ipython",
    "version": 3
   },
   "file_extension": ".py",
   "mimetype": "text/x-python",
   "name": "python",
   "nbconvert_exporter": "python",
   "pygments_lexer": "ipython3",
   "version": "3.11.0"
  }
 },
 "nbformat": 4,
 "nbformat_minor": 2
}
